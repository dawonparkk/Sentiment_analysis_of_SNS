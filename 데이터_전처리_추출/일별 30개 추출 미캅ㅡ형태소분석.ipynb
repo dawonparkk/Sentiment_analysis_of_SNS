{
 "cells": [
  {
   "cell_type": "code",
   "execution_count": 2,
   "metadata": {},
   "outputs": [],
   "source": [
    "import pandas as pd"
   ]
  },
  {
   "cell_type": "code",
   "execution_count": 2,
   "metadata": {
    "scrolled": true
   },
   "outputs": [],
   "source": [
    "df1 = pd.read_csv('C:/Users/User/서울시청_코로나감성/뉴스데이터/4월댓글/4월_30추출.csv', encoding='utf-8')"
   ]
  },
  {
   "cell_type": "code",
   "execution_count": 3,
   "metadata": {},
   "outputs": [
    {
     "data": {
      "text/html": [
       "<div>\n",
       "<style scoped>\n",
       "    .dataframe tbody tr th:only-of-type {\n",
       "        vertical-align: middle;\n",
       "    }\n",
       "\n",
       "    .dataframe tbody tr th {\n",
       "        vertical-align: top;\n",
       "    }\n",
       "\n",
       "    .dataframe thead th {\n",
       "        text-align: right;\n",
       "    }\n",
       "</style>\n",
       "<table border=\"1\" class=\"dataframe\">\n",
       "  <thead>\n",
       "    <tr style=\"text-align: right;\">\n",
       "      <th></th>\n",
       "      <th>Unnamed: 0</th>\n",
       "      <th>News_Date</th>\n",
       "      <th>News_Title</th>\n",
       "      <th>Content_Date</th>\n",
       "      <th>Content</th>\n",
       "      <th>Like</th>\n",
       "      <th>Dislike</th>\n",
       "      <th>Content_150</th>\n",
       "    </tr>\n",
       "  </thead>\n",
       "  <tbody>\n",
       "    <tr>\n",
       "      <th>0</th>\n",
       "      <td>0</td>\n",
       "      <td>2020-04-01</td>\n",
       "      <td>김재중 “코로나19 확진은 만우절 장난, 경각심 위해 올렸다”</td>\n",
       "      <td>2020-04-01</td>\n",
       "      <td>멀리 안 나간다 잘가라~</td>\n",
       "      <td>0.0</td>\n",
       "      <td>0.0</td>\n",
       "      <td>멀리 안 나간다 잘가라~</td>\n",
       "    </tr>\n",
       "    <tr>\n",
       "      <th>1</th>\n",
       "      <td>1</td>\n",
       "      <td>2020-04-01</td>\n",
       "      <td>[글로벌 돋보기] 핀란드 민간병원, 코로나19 검사 한국까지 의뢰…왜?</td>\n",
       "      <td>2020-04-01</td>\n",
       "      <td>검체를 한국으로 보내는건 좀 아닌거같다 어째든 코로나균이 한국으로 오는거 아님? 한...</td>\n",
       "      <td>3.0</td>\n",
       "      <td>4.0</td>\n",
       "      <td>검체를 한국으로 보내는건 좀 아닌거같다 어째든 코로나균이 한국으로 오는거 아님? 한...</td>\n",
       "    </tr>\n",
       "    <tr>\n",
       "      <th>2</th>\n",
       "      <td>2</td>\n",
       "      <td>2020-04-01</td>\n",
       "      <td>日 코로나19 신규확진 242명…일일 최다기록</td>\n",
       "      <td>2020-04-01</td>\n",
       "      <td>김치가 바이러스 잡는데 도움된것같은 느낌 기무치는 아니고 대한민국 잘익은김치</td>\n",
       "      <td>0.0</td>\n",
       "      <td>0.0</td>\n",
       "      <td>김치가 바이러스 잡는데 도움된것같은 느낌 기무치는 아니고 대한민국 잘익은김치</td>\n",
       "    </tr>\n",
       "    <tr>\n",
       "      <th>3</th>\n",
       "      <td>3</td>\n",
       "      <td>2020-04-01</td>\n",
       "      <td>[2보] 코로나19 어제 101명 늘어 총 9천887명…수도권 52명 추가</td>\n",
       "      <td>2020-04-01</td>\n",
       "      <td>이탈리아에서 많이 죽는 이유는 코로나가 계속 변형돼서 그렇다는데 맞나요?</td>\n",
       "      <td>0.0</td>\n",
       "      <td>0.0</td>\n",
       "      <td>이탈리아에서 많이 죽는 이유는 코로나가 계속 변형돼서 그렇다는데 맞나요?</td>\n",
       "    </tr>\n",
       "    <tr>\n",
       "      <th>4</th>\n",
       "      <td>4</td>\n",
       "      <td>2020-04-01</td>\n",
       "      <td>코로나 감염 김재중, 만우절 거짓말 논란... \"처벌 달게 받겠다\"</td>\n",
       "      <td>2020-04-01</td>\n",
       "      <td>무슨 생각이면 현 상황을 웃음으로 넘기려 하는지...참으로... 팬 중 누군가는 고...</td>\n",
       "      <td>2.0</td>\n",
       "      <td>1.0</td>\n",
       "      <td>무슨 생각이면 현 상황을 웃음으로 넘기려 하는지...참으로... 팬 중 누군가는 고...</td>\n",
       "    </tr>\n",
       "    <tr>\n",
       "      <th>...</th>\n",
       "      <td>...</td>\n",
       "      <td>...</td>\n",
       "      <td>...</td>\n",
       "      <td>...</td>\n",
       "      <td>...</td>\n",
       "      <td>...</td>\n",
       "      <td>...</td>\n",
       "      <td>...</td>\n",
       "    </tr>\n",
       "    <tr>\n",
       "      <th>895</th>\n",
       "      <td>895</td>\n",
       "      <td>2020-04-30</td>\n",
       "      <td>아베 \"한국과 코로나19 대응 협력…중요한 나라\" 강조</td>\n",
       "      <td>2020-04-30</td>\n",
       "      <td>댓거덩~</td>\n",
       "      <td>0.0</td>\n",
       "      <td>0.0</td>\n",
       "      <td>댓거덩~</td>\n",
       "    </tr>\n",
       "    <tr>\n",
       "      <th>896</th>\n",
       "      <td>896</td>\n",
       "      <td>2020-04-30</td>\n",
       "      <td>아베 \"한국은 중요한 나라…코로나 대응 계속 협력 원해\"(종합)</td>\n",
       "      <td>2020-04-30</td>\n",
       "      <td>쪽발이는 절대. 믿으면 안됨.</td>\n",
       "      <td>2.0</td>\n",
       "      <td>0.0</td>\n",
       "      <td>쪽발이는 절대. 믿으면 안됨.</td>\n",
       "    </tr>\n",
       "    <tr>\n",
       "      <th>897</th>\n",
       "      <td>897</td>\n",
       "      <td>2020-04-30</td>\n",
       "      <td>아베 “한국 중요한 나라…코로나 대응 협력 원해”</td>\n",
       "      <td>2020-04-30</td>\n",
       "      <td>이웃인데 도와 드려야죠</td>\n",
       "      <td>0.0</td>\n",
       "      <td>11.0</td>\n",
       "      <td>이웃인데 도와 드려야죠</td>\n",
       "    </tr>\n",
       "    <tr>\n",
       "      <th>898</th>\n",
       "      <td>898</td>\n",
       "      <td>2020-04-30</td>\n",
       "      <td>아베 \"한국과 코로나19 대응 협력…중요한 나라\" 강조</td>\n",
       "      <td>2020-04-30</td>\n",
       "      <td>꺼져라 원생아</td>\n",
       "      <td>0.0</td>\n",
       "      <td>0.0</td>\n",
       "      <td>꺼져라 원생아</td>\n",
       "    </tr>\n",
       "    <tr>\n",
       "      <th>899</th>\n",
       "      <td>899</td>\n",
       "      <td>2020-04-30</td>\n",
       "      <td>아베 “한국 중요한 나라…코로나 대응 협력 원해”</td>\n",
       "      <td>2020-04-30</td>\n",
       "      <td>일본은 버리자!</td>\n",
       "      <td>0.0</td>\n",
       "      <td>0.0</td>\n",
       "      <td>일본은 버리자!</td>\n",
       "    </tr>\n",
       "  </tbody>\n",
       "</table>\n",
       "<p>900 rows × 8 columns</p>\n",
       "</div>"
      ],
      "text/plain": [
       "     Unnamed: 0   News_Date                                 News_Title  \\\n",
       "0             0  2020-04-01         김재중 “코로나19 확진은 만우절 장난, 경각심 위해 올렸다”   \n",
       "1             1  2020-04-01    [글로벌 돋보기] 핀란드 민간병원, 코로나19 검사 한국까지 의뢰…왜?   \n",
       "2             2  2020-04-01                  日 코로나19 신규확진 242명…일일 최다기록   \n",
       "3             3  2020-04-01  [2보] 코로나19 어제 101명 늘어 총 9천887명…수도권 52명 추가   \n",
       "4             4  2020-04-01      코로나 감염 김재중, 만우절 거짓말 논란... \"처벌 달게 받겠다\"   \n",
       "..          ...         ...                                        ...   \n",
       "895         895  2020-04-30             아베 \"한국과 코로나19 대응 협력…중요한 나라\" 강조   \n",
       "896         896  2020-04-30        아베 \"한국은 중요한 나라…코로나 대응 계속 협력 원해\"(종합)   \n",
       "897         897  2020-04-30                아베 “한국 중요한 나라…코로나 대응 협력 원해”   \n",
       "898         898  2020-04-30             아베 \"한국과 코로나19 대응 협력…중요한 나라\" 강조   \n",
       "899         899  2020-04-30                아베 “한국 중요한 나라…코로나 대응 협력 원해”   \n",
       "\n",
       "    Content_Date                                            Content  Like  \\\n",
       "0     2020-04-01                                      멀리 안 나간다 잘가라~   0.0   \n",
       "1     2020-04-01  검체를 한국으로 보내는건 좀 아닌거같다 어째든 코로나균이 한국으로 오는거 아님? 한...   3.0   \n",
       "2     2020-04-01         김치가 바이러스 잡는데 도움된것같은 느낌 기무치는 아니고 대한민국 잘익은김치   0.0   \n",
       "3     2020-04-01           이탈리아에서 많이 죽는 이유는 코로나가 계속 변형돼서 그렇다는데 맞나요?   0.0   \n",
       "4     2020-04-01  무슨 생각이면 현 상황을 웃음으로 넘기려 하는지...참으로... 팬 중 누군가는 고...   2.0   \n",
       "..           ...                                                ...   ...   \n",
       "895   2020-04-30                                               댓거덩~   0.0   \n",
       "896   2020-04-30                                   쪽발이는 절대. 믿으면 안됨.   2.0   \n",
       "897   2020-04-30                                       이웃인데 도와 드려야죠   0.0   \n",
       "898   2020-04-30                                            꺼져라 원생아   0.0   \n",
       "899   2020-04-30                                           일본은 버리자!   0.0   \n",
       "\n",
       "     Dislike                                        Content_150  \n",
       "0        0.0                                      멀리 안 나간다 잘가라~  \n",
       "1        4.0  검체를 한국으로 보내는건 좀 아닌거같다 어째든 코로나균이 한국으로 오는거 아님? 한...  \n",
       "2        0.0         김치가 바이러스 잡는데 도움된것같은 느낌 기무치는 아니고 대한민국 잘익은김치  \n",
       "3        0.0           이탈리아에서 많이 죽는 이유는 코로나가 계속 변형돼서 그렇다는데 맞나요?  \n",
       "4        1.0  무슨 생각이면 현 상황을 웃음으로 넘기려 하는지...참으로... 팬 중 누군가는 고...  \n",
       "..       ...                                                ...  \n",
       "895      0.0                                               댓거덩~  \n",
       "896      0.0                                   쪽발이는 절대. 믿으면 안됨.  \n",
       "897     11.0                                       이웃인데 도와 드려야죠  \n",
       "898      0.0                                            꺼져라 원생아  \n",
       "899      0.0                                           일본은 버리자!  \n",
       "\n",
       "[900 rows x 8 columns]"
      ]
     },
     "execution_count": 3,
     "metadata": {},
     "output_type": "execute_result"
    }
   ],
   "source": [
    "df1"
   ]
  },
  {
   "cell_type": "code",
   "execution_count": 4,
   "metadata": {},
   "outputs": [],
   "source": [
    "from hanspell import spell_checker\n",
    "\n",
    "def f1(x) :\n",
    "    spelled_sent = spell_checker.check(x)\n",
    "    hanspell_sent = spelled_sent.checked\n",
    "    return hanspell_sent"
   ]
  },
  {
   "cell_type": "code",
   "execution_count": 5,
   "metadata": {},
   "outputs": [],
   "source": [
    "text2 = []\n",
    "for i in df1['Content_150'] :\n",
    "    try :\n",
    "        text2.append(f1(i))\n",
    "df1 = pd.read_csv('C:/Users/User/서울시청_코로나감성/뉴스데이터/4월댓글/4월_30추출.csv', encoding='utf-8')    except :\n",
    "        text2.append(i)"
   ]
  },
  {
   "cell_type": "code",
   "execution_count": 6,
   "metadata": {},
   "outputs": [],
   "source": [
    "pd.Series(text2).to_csv('C:/Users/User/서울시청_코로나감성/뉴스데이터/4월댓글/4월_30추출_맞춤법.csv', encoding='utf-8')"
   ]
  },
  {
   "cell_type": "markdown",
   "metadata": {},
   "source": [
    "#  미캅 일별 30개 추출한거 형태소 분석하기"
   ]
  },
  {
   "cell_type": "code",
   "execution_count": 3,
   "metadata": {},
   "outputs": [],
   "source": [
    "mecab_50 = pd.read_csv('C:/Users/user/Desktop/서울시청/mecab_2월.csv', encoding='utf-8')"
   ]
  },
  {
   "cell_type": "code",
   "execution_count": 4,
   "metadata": {},
   "outputs": [
    {
     "name": "stdout",
     "output_type": "stream",
     "text": [
      "<class 'pandas.core.frame.DataFrame'>\n",
      "RangeIndex: 870 entries, 0 to 869\n",
      "Data columns (total 1 columns):\n",
      " #   Column  Non-Null Count  Dtype \n",
      "---  ------  --------------  ----- \n",
      " 0   0       870 non-null    object\n",
      "dtypes: object(1)\n",
      "memory usage: 6.9+ KB\n"
     ]
    }
   ],
   "source": [
    "type(mecab_50)\n",
    "mecab_50.info()"
   ]
  },
  {
   "cell_type": "code",
   "execution_count": 5,
   "metadata": {},
   "outputs": [
    {
     "data": {
      "text/plain": [
       "'0\\tSN,*,*,*,*,*,*,*\\n,\\tSC,*,*,*,*,*,*,*\\n기자\\tNNG,*,F,기자,*,*,*,*\\n들\\tXSN,*,T,들,*,*,*,*\\n은\\tJX,*,T,은,*,*,*,*\\n총알\\tNNG,*,T,총알,Compound,*,*,총/NNG/*+알/NNG/*\\n이\\tJKS,*,F,이,*,*,*,*\\n빗발치\\tVV,*,F,빗발치,*,*,*,*\\n는\\tETM,*,T,는,*,*,*,*\\n전쟁터\\tNNG,*,F,전쟁터,Compound,*,*,전쟁/NNG/*+터/NNG/*\\n속\\tNNG,장소,T,속,*,*,*,*\\n으로\\tJKB,*,F,으로,*,*,*,*\\n뛰어들\\tVV,*,T,뛰어들,*,*,*,*\\n어야\\tEC,*,F,어야,*,*,*,*\\n진정\\tXR,*,T,진정,*,*,*,*\\n한\\tXSA+ETM,*,T,한,Inflect,XSA,ETM,하/XSA/*+ᆫ/ETM/*\\n기자\\tNNG,*,F,기자,*,*,*,*\\n가\\tJKS,*,F,가,*,*,*,*\\n된다\\tVV+EF,*,F,된다,Inflect,VV,EF,되/VV/*+ᆫ다/EF/*\\n.\\tSF,*,*,*,*,*,*,*\\nEOS\\n'"
      ]
     },
     "execution_count": 5,
     "metadata": {},
     "output_type": "execute_result"
    }
   ],
   "source": [
    "mecab_50['0'][0]"
   ]
  },
  {
   "cell_type": "code",
   "execution_count": 6,
   "metadata": {},
   "outputs": [],
   "source": [
    "import re\n",
    "import pandas as pd\n",
    "import copy"
   ]
  },
  {
   "cell_type": "code",
   "execution_count": 7,
   "metadata": {},
   "outputs": [],
   "source": [
    "mecab = []\n",
    "for i in range(0, len(mecab_50)):\n",
    "    a = pd.DataFrame(re.findall('[ㄱ-ㅎㅏ-ㅣ가-힣]+\\t[a-zA-Z]+', mecab_50['0'][i]))\n",
    "    mecab.append(a)"
   ]
  },
  {
   "cell_type": "code",
   "execution_count": 8,
   "metadata": {},
   "outputs": [
    {
     "name": "stdout",
     "output_type": "stream",
     "text": [
      "0\n"
     ]
    }
   ],
   "source": [
    "length=len(mecab)\n",
    "\n",
    "for i in range(length):\n",
    "    if len(mecab[i])>0:\n",
    "        li=mecab[i][0].apply(lambda x: x.split('\\t'))\n",
    "        m1=li.apply(lambda x: x[0])\n",
    "        m2=li.apply(lambda x: x[1])\n",
    "        mecab[i]['Word']=m1\n",
    "        mecab[i]['POS']=m2\n",
    "        \n",
    "    if i%1000==0:\n",
    "        print(i)"
   ]
  },
  {
   "cell_type": "code",
   "execution_count": 9,
   "metadata": {},
   "outputs": [],
   "source": [
    "me=copy.deepcopy(mecab)\n",
    "for i in range(length):\n",
    "    if i==0:\n",
    "        df=me[i]\n",
    "    else:\n",
    "        if len(me[i])>0:\n",
    "            df=pd.concat([df,me[i]])\n",
    "df.to_csv('C:/Users/user/Desktop/서울시청/2월30추출_형태소.csv', encoding='UTF-8')"
   ]
  },
  {
   "cell_type": "code",
   "execution_count": null,
   "metadata": {},
   "outputs": [],
   "source": []
  }
 ],
 "metadata": {
  "kernelspec": {
   "display_name": "Python 3",
   "language": "python",
   "name": "python3"
  },
  "language_info": {
   "codemirror_mode": {
    "name": "ipython",
    "version": 3
   },
   "file_extension": ".py",
   "mimetype": "text/x-python",
   "name": "python",
   "nbconvert_exporter": "python",
   "pygments_lexer": "ipython3",
   "version": "3.8.3"
  }
 },
 "nbformat": 4,
 "nbformat_minor": 4
}
